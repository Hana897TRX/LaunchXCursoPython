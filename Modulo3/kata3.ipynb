{
 "cells": [
  {
   "cell_type": "markdown",
   "metadata": {},
   "source": [
    "# Python - Condicionales\n",
    "**Gabriela Fernanda Soto Ramírez - Hana897TRX**"
   ]
  },
  {
   "cell_type": "markdown",
   "metadata": {},
   "source": [
    "Para este ejercicio, escribirás una lógica condicional que imprima una advertencia si un asteroide se acerca a la Tierra demasiado rápido. La velocidad del asteroide varía dependiendo de lo cerca que esté del sol, y cualquier **velocidad superior a 25 kilómetros** por segundo (km/s) merece una *advertencia*.\n",
    "\n",
    "Un asteroide se acerca, y viaja a una **velocidad de 49 km/s**."
   ]
  },
  {
   "cell_type": "code",
   "execution_count": 3,
   "metadata": {},
   "outputs": [
    {
     "name": "stdout",
     "output_type": "stream",
     "text": [
      "Advertencia, el asteroide va a una velocidad superior a 25 KM/s, Su velocidad es: 49 KM/S\n"
     ]
    }
   ],
   "source": [
    "# Configuración de sistema\n",
    "velocidadAsteroide = 49\n",
    "velocidadAdvertencia = 25\n",
    "\n",
    "if velocidadAsteroide > velocidadAdvertencia:\n",
    "    print(\"Advertencia, el asteroide va a una velocidad superior a \" + str(velocidadAdvertencia) + \" KM/s, Su velocidad es: \" + str(velocidadAsteroide) + \" KM/s\")\n",
    "else:\n",
    "    print(\"El asteroide viaja a una velocidad baja\")"
   ]
  },
  {
   "cell_type": "markdown",
   "metadata": {},
   "source": [
    " Si un asteroide entra en la atmósfera de la Tierra a una **velocidad mayor o igual a 20 km/s**, a veces *produce un rayo de luz* que se puede ver desde la Tierra. Escribe la lógica condicional que usa declaraciones if, else, y elif para alertar a las personas de todo el mundo que deben buscar un asteroide en el cielo. ¡Hay uno que se dirige a la tierra ahora a una **velocidad de 19 km/s**!"
   ]
  },
  {
   "cell_type": "code",
   "execution_count": 4,
   "metadata": {},
   "outputs": [
    {
     "name": "stdout",
     "output_type": "stream",
     "text": [
      "El asteroide viaja a una velocidad baja\n"
     ]
    }
   ],
   "source": [
    "# Configuración de sistema\n",
    "velocidadAdvertencia = 25\n",
    "velocidadRayoLuz = 20\n",
    "\n",
    "# Data\n",
    "velocidadAsteroide = 19\n",
    "\n",
    "if velocidadAsteroide > velocidadAdvertencia :\n",
    "    print(\"Advertencia, el asteroide va a una velocidad superior a \" + str(velocidadAdvertencia) + \" KM/s, Su velocidad es: \" + str(velocidadAsteroide) + \" KM/s\")\n",
    "elif velocidadAsteroide >= velocidadRayoLuz:\n",
    "    print(\"El asteroide pudo haber producido un rayo de luz visible desde la Tierra. La velocidad del asteroide es: \" + str(velocidadAsteroide) + \" KM/s\")\n",
    "else:\n",
    "    print(\"El asteroide viaja a una velocidad baja\")"
   ]
  },
  {
   "cell_type": "markdown",
   "metadata": {},
   "source": [
    "En este ejercicio, aprenderás información más matizada sobre cuándo los asteroides representan un peligro para la Tierra, y utilizarás esa información para mejorar nuestro sistema de advertencia. Aquí está la nueva información que necesitas saber:\n",
    "\n",
    "*Los asteroides de **menos de 25 metros** en su dimensión más grande probablemente se quemarán a medida que entren en la atmósfera de la Tierra.\n",
    "\n",
    "    Si una pieza de un asteroide que es **más grande que 25 metros pero más pequeña que 1000 metros golpeara la Tierra, causaría mucho daño**.\n",
    "\n",
    "También discutimos en el ejercicio anterior que:\n",
    "\n",
    "    La velocidad del asteroide varía en función de lo cerca que esté del sol, y cualquier velocidad superior a 25 kilómetros por segundo (km/s) merece una advertencia.\n",
    "    Si un asteroide entra en la atmósfera de la Tierra a una velocidad mayor o igual a 20 km/s, a veces produce un rayo de luz que se puede ver desde la Tierra.\n",
    "\n",
    "Usando toda esta información, escribe un programa que emita la advertencia o información correcta a la gente de la Tierra, según la velocidad y el tamaño de un asteroide. Utiliza instrucciones if, else, y elif, así como los operadores and y or."
   ]
  },
  {
   "cell_type": "code",
   "execution_count": null,
   "metadata": {},
   "outputs": [],
   "source": [
    "# Configuración de sistema\n",
    "velocidadAdvertencia = 25\n",
    "velocidadRayoLuz = 20\n",
    "sizeMinAsteroid = 25\n",
    "sizeMaxAsteroid = 1000\n",
    "\n",
    "#Data\n",
    "velocidadAsteroide = 19\n",
    "sizeAsteroid = 0\n",
    "\n",
    "if velocidadAsteroide > velocidadAdvertencia or (sizeAsteroid > sizeMinAsteroid and sizeAsteroid < sizeMaxAsteroid) :\n",
    "    print(\"Advertencia, el asteroide va a una velocidad superior a \" + str(velocidadAdvertencia) + \" KM/s, Su velocidad es: \" + str(velocidadAsteroide) + \" KM/s\")\n",
    "elif velocidadAsteroide >= velocidadRayoLuz:\n",
    "    print(\"El asteroide pudo haber producido un rayo de luz visible desde la Tierra. La velocidad del asteroide es: \" + str(velocidadAsteroide) + \" KM/s\")\n",
    "else:\n",
    "    print(\"El asteroide viaja a una velocidad baja\")"
   ]
  }
 ],
 "metadata": {
  "interpreter": {
   "hash": "14afac0b847266d8210746505cd38e57aafa646773b5dae96fd341694773fc41"
  },
  "kernelspec": {
   "display_name": "Python 3.8.9 64-bit",
   "language": "python",
   "name": "python3"
  },
  "language_info": {
   "codemirror_mode": {
    "name": "ipython",
    "version": 3
   },
   "file_extension": ".py",
   "mimetype": "text/x-python",
   "name": "python",
   "nbconvert_exporter": "python",
   "pygments_lexer": "ipython3",
   "version": "3.8.9"
  },
  "orig_nbformat": 4
 },
 "nbformat": 4,
 "nbformat_minor": 2
}
